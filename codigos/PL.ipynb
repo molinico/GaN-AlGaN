{
 "cells": [
  {
   "cell_type": "markdown",
   "metadata": {},
   "source": [
    "# PL"
   ]
  },
  {
   "cell_type": "code",
   "execution_count": 2,
   "metadata": {},
   "outputs": [],
   "source": [
    "import matplotlib.pyplot as plt\n",
    "import numpy as np\n",
    "import math\n",
    "import time\n",
    "import scipy.signal\n",
    "from scipy.optimize import curve_fit\n",
    "import scipy.stats as stats\n",
    "import pandas as pd\n",
    "import os\n",
    "from  scipy.stats import chi2_contingency\n",
    "#from statsmodels.stats.weightstats import DescrStatsW\n",
    "import glob\n",
    "import csv\n",
    "\n",
    "from scipy.signal import butter, filtfilt\n",
    "import scipy.integrate as spi\n",
    "from scipy.stats import chi2\n",
    "\n",
    "#ej de path=r'C:\\Users\\Sergio\\Desktop\\L6y7\\18-04-23'\n",
    "#path='C:/Users/Nicolás Molina/Desktop/L6-7/04-05-23-14kV'\n",
    "#path=r'C:\\Users\\Sergio\\Desktop\\L6y7\\04-05-23-19kV'\n",
    "\n",
    "path=r'C:\\Users\\Nicolás Molina\\OneDrive\\Escritorio\\GaNAlGaN\\Gan-AlGaN\\adquisiciones\\PL'\n",
    "\n",
    "#get_ipython().run_line_magic('matplotlib', 'inline')\n",
    "get_ipython().run_line_magic('matplotlib', 'qt5')\n",
    "\n",
    "import matplotlib.ticker as ticker\n"
   ]
  },
  {
   "cell_type": "markdown",
   "metadata": {},
   "source": [
    "# datos ya procesados"
   ]
  },
  {
   "cell_type": "code",
   "execution_count": 3,
   "metadata": {},
   "outputs": [
    {
     "data": {
      "text/plain": [
       "<matplotlib.legend.Legend at 0x1ed36852d90>"
      ]
     },
     "execution_count": 3,
     "metadata": {},
     "output_type": "execute_result"
    }
   ],
   "source": [
    "plt.close(\"all\")\n",
    "os.chdir (path)\n",
    "from scipy.signal import find_peaks\n",
    "file=\"PL primera prueba.txt\"\n",
    "\n",
    "data = np.loadtxt(file, delimiter=' ', skiprows=1, unpack=True)\n",
    "\n",
    "longonda=data[0]\n",
    "Ps1=data[1]\n",
    "Ps2=data[2]\n",
    "PsNf5=data[3]\n",
    "PsNf10=data[4]\n",
    "PsNf15=data[5]\n",
    "PsNf20=data[6]\n",
    "\n",
    "norm=max(max(Ps1),max(Ps2),max(PsNf5),max(PsNf10),max(PsNf15),max(PsNf20)) #para normalizar\n",
    "\n",
    "muestras=[Ps1,Ps2,PsNf5,PsNf10,PsNf15,PsNf20]\n",
    "titulos=[\"Ps1\",\"Ps2\",\"Ps/Nf 5%\",\"Ps/Nf 10%\",\"Ps/Nf 15%\",\"Ps/Nf 20%\"]\n",
    "\n",
    "plt.figure()\n",
    "plt.title(\"Fotoluminiscencia de PS con diferentes cargas de Naftaleno normalizada\")   #Photoluminescence of PS with different loadings of Naphtalene\n",
    "plt.xlabel('$\\lambda$ (nm)')\n",
    "plt.ylabel('Intensidad')\n",
    "j=0\n",
    "\n",
    "for film in muestras:\n",
    "    plt.plot(longonda,film/norm,label=titulos[j])    #divido por norm para normalizar\n",
    "\n",
    "    j=j+1\n",
    "\n",
    "peaks, _ = find_peaks(PsNf10,height=1000000)\n",
    "peak_x = longonda[peaks]\n",
    "peak_y = PsNf10[peaks]\n",
    "pico=str(round(peak_x[0]))\n",
    "plt.scatter(peak_x,peak_y/norm,label=f\"{pico} nm\",c=\"black\",linewidth=1,ls=\"-.\",zorder=100,s=25)  #pico max psnf10\n",
    "plt.axvline(320,ls=\"--\",label=\"320 nm\",c=\"black\",linewidth=0.7)\n",
    "plt.axvline(340,ls=\"--\",label=\"340 nm\",c=\"blue\",linewidth=0.7)\n",
    "plt.legend()"
   ]
  },
  {
   "cell_type": "markdown",
   "metadata": {},
   "source": [
    "# procesamiento completo de datos"
   ]
  },
  {
   "cell_type": "code",
   "execution_count": null,
   "metadata": {},
   "outputs": [],
   "source": []
  }
 ],
 "metadata": {
  "kernelspec": {
   "display_name": "base",
   "language": "python",
   "name": "python3"
  },
  "language_info": {
   "codemirror_mode": {
    "name": "ipython",
    "version": 3
   },
   "file_extension": ".py",
   "mimetype": "text/x-python",
   "name": "python",
   "nbconvert_exporter": "python",
   "pygments_lexer": "ipython3",
   "version": "3.9.7"
  }
 },
 "nbformat": 4,
 "nbformat_minor": 2
}
