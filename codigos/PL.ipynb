{
  "cells": [
    {
      "cell_type": "markdown",
      "metadata": {
        "id": "FLemV7os7UbW"
      },
      "source": [
        "# PL"
      ]
    },
    {
      "cell_type": "code",
      "execution_count": 36,
      "metadata": {
        "id": "nCQUTCU07Ubk"
      },
      "outputs": [],
      "source": [
        "import matplotlib.pyplot as plt\n",
        "import numpy as np\n",
        "import math\n",
        "import time\n",
        "import scipy.signal\n",
        "from scipy.optimize import curve_fit\n",
        "import scipy.stats as stats\n",
        "import pandas as pd\n",
        "import os\n",
        "from  scipy.stats import chi2_contingency\n",
        "#from statsmodels.stats.weightstats import DescrStatsW\n",
        "import glob\n",
        "import csv\n",
        "import fileinput\n",
        "from glob import glob\n",
        "import re\n",
        "from scipy.signal import butter, filtfilt\n",
        "import scipy.integrate as spi\n",
        "from scipy.stats import chi2\n",
        "from scipy.signal import find_peaks\n",
        "\n",
        "#ej de path=r'C:\\Users\\Sergio\\Desktop\\L6y7\\18-04-23'\n",
        "#path='C:/Users/Nicolás Molina/Desktop/L6-7/04-05-23-14kV'\n",
        "#path=r'C:\\Users\\Sergio\\Desktop\\L6y7\\04-05-23-19kV'\n",
        "\n",
        "path=r'C:\\Users\\Nicolás Molina\\OneDrive\\Escritorio\\GaNAlGaN\\Gan-AlGaN\\adquisiciones\\PL'\n",
        "\n",
        "#get_ipython().run_line_magic('matplotlib', 'inline')\n",
        "get_ipython().run_line_magic('matplotlib', 'qt5')\n",
        "\n",
        "import matplotlib.ticker as ticker\n"
      ]
    },
    {
      "cell_type": "markdown",
      "metadata": {
        "id": "0qdC2WDq7Ubo"
      },
      "source": [
        "# datos ya procesados"
      ]
    },
    {
      "cell_type": "code",
      "execution_count": 40,
      "metadata": {
        "id": "WDZOXOoN7Ubp",
        "outputId": "6e233b4f-803e-4fa3-c883-67b0407793d8"
      },
      "outputs": [
        {
          "data": {
            "text/plain": [
              "<matplotlib.legend.Legend at 0x280d3190b80>"
            ]
          },
          "execution_count": 40,
          "metadata": {},
          "output_type": "execute_result"
        }
      ],
      "source": [
        "plt.close(\"all\")\n",
        "path=r'C:\\Users\\Nicolás Molina\\OneDrive\\Escritorio\\GaNAlGaN\\Gan-AlGaN\\adquisiciones\\PL'\n",
        "os.chdir (path)\n",
        "from scipy.signal import find_peaks\n",
        "file=\"PL primera prueba.txt\"\n",
        "\n",
        "data = np.loadtxt(file, delimiter=' ', skiprows=1, unpack=True)\n",
        "\n",
        "longonda=data[0]\n",
        "Ps1=data[1]\n",
        "Ps2=data[2]\n",
        "PsNf5=data[3]\n",
        "PsNf10=data[4]\n",
        "PsNf15=data[5]\n",
        "PsNf20=data[6]\n",
        "\n",
        "norm=max(max(Ps1),max(Ps2),max(PsNf5),max(PsNf10),max(PsNf15),max(PsNf20)) #para normalizar\n",
        "\n",
        "muestras=[Ps1,Ps2,PsNf5,PsNf10,PsNf15,PsNf20]\n",
        "titulos=[\"Ps1\",\"Ps2\",\"Ps/Nf 5%\",\"Ps/Nf 10%\",\"Ps/Nf 15%\",\"Ps/Nf 20%\"]\n",
        "\n",
        "plt.figure()\n",
        "plt.title(\"Fotoluminiscencia de PS con diferentes cargas de Naftaleno normalizada\")   #Photoluminescence of PS with different loadings of Naphtalene\n",
        "plt.xlabel('$\\lambda$ (nm)')\n",
        "plt.ylabel('Intensidad (u.a)')\n",
        "j=0\n",
        "\n",
        "for film in muestras:\n",
        "    plt.plot(longonda[20:170],film[20:170]/norm,label=titulos[j])    #divido por norm para normalizar\n",
        "\n",
        "    j=j+1\n",
        "\n",
        "peaks, _ = find_peaks(PsNf10,height=1000000)\n",
        "peak_x = longonda[peaks]\n",
        "peak_y = PsNf10[peaks]\n",
        "pico=str(round(peak_x[0]))\n",
        "#plt.scatter(peak_x,peak_y/norm,label=f\"{pico} nm\",c=\"black\",linewidth=1,ls=\"-.\",zorder=100,s=25)  #pico max psnf10\n",
        "plt.axvline(peak_x[0],label=f\"{pico} nm\",c=\"blue\",linewidth=1,ls=\"-.\")\n",
        "plt.axvline(320,ls=\"-\",c=\"black\",linewidth=0.8)\n",
        "plt.axvline(340,ls=\"-\",c=\"black\",linewidth=0.8)\n",
        "plt.legend()"
      ]
    },
    {
      "cell_type": "markdown",
      "metadata": {
        "id": "H5ItXEG57Ubs"
      },
      "source": [
        "# procesamiento completo de datos"
      ]
    },
    {
      "cell_type": "code",
      "execution_count": 39,
      "metadata": {
        "colab": {
          "base_uri": "https://localhost:8080/",
          "height": 913
        },
        "id": "Igr85IKw7Ubt",
        "outputId": "6fe4d23c-93f8-4faa-d37d-3b9423ba96cd"
      },
      "outputs": [
        {
          "name": "stdout",
          "output_type": "stream",
          "text": [
            "['Ps CeF3 10.Sample.Cycle1.Raw.csv', 'Ps CeF3 5 fina.Sample.Cycle1.Raw.csv', 'Ps CeF3 5.Sample.Cycle1.Raw.csv', 'Ps.Sample.Cycle1.Raw.csv']\n"
          ]
        },
        {
          "data": {
            "text/plain": [
              "<matplotlib.legend.Legend at 0x280d309ba00>"
            ]
          },
          "execution_count": 39,
          "metadata": {},
          "output_type": "execute_result"
        }
      ],
      "source": [
        "plt.close(\"all\")\n",
        "path=r'C:\\Users\\Nicolás Molina\\OneDrive\\Escritorio\\GaNAlGaN\\Gan-AlGaN\\adquisiciones\\PL2 fail+uvvis'\n",
        "os.chdir (path)\n",
        "\n",
        "# busco la absorbancia (en uvvis) en el punto donde excito las muestras en el pl\n",
        "uvvis=glob('*.csv')\n",
        "baselineuv=np.loadtxt(\"baseline.txt\",delimiter=\",\",skiprows=1,unpack=True)\n",
        "#pl=np.loadtxt(\"pl2fail.txt\", delimiter='\t', skiprows=1, unpack=True)\n",
        "\n",
        "def mean(numbers):\n",
        "    return sum(numbers)/len(numbers)\n",
        "\n",
        "\n",
        "abs=[]\n",
        "\n",
        "print(uvvis)\n",
        "\n",
        "uvvis=[\"Ps.Sample.Cycle1.Raw.csv\",\"Ps CeF3 5 fina.Sample.Cycle1.Raw.csv\",\"Ps CeF3 5.Sample.Cycle1.Raw.csv\",\"Ps CeF3 10.Sample.Cycle1.Raw.csv\"]\n",
        "\n",
        "#plt.figure()\n",
        "for film in uvvis:\n",
        "  uv=np.loadtxt(film, delimiter=',', skiprows=1, unpack=True)\n",
        "  lambda_=uv[0]\n",
        "  intensidad=uv[1]-baselineuv[1]  #corrijo\n",
        "  #plt.plot(lambda_[435:445],intensidad[435:445],label=film)\n",
        "  abs.append(mean(intensidad[437:443]))\n",
        "#plt.legend()\n",
        "\n",
        "#ahora si empiezo con pl\n",
        "\n",
        "pl=np.loadtxt(\"pl2fail2.txt\", delimiter='\t', skiprows=1, unpack=True)\n",
        "\n",
        "\n",
        "lambdapl=pl[0]\n",
        "Iblanco=pl[1]\n",
        "emcorri=pl[6]\n",
        "wg280=pl[7]\n",
        "\n",
        "Is=[]\n",
        "\n",
        "\n",
        "for j in [3,4,5]:\n",
        "  I0=pl[j]-Iblanco\n",
        "  T=10**(abs[j-2])\n",
        "  fabs=1-10**(-abs[j-2])\n",
        "  Ipl=I0*emcorri*100*(1-T)/(wg280*fabs)\n",
        "  Ipl=I0*emcorri*100/(wg280)\n",
        "  #plt.plot(lambdapl,Ipl,label=uvvis[j-2])\n",
        "  Is.append(Ipl)\n",
        "\n",
        "\n",
        "maxpscef5viejo=max(Is[0])\n",
        "maxpscef5=max(Is[1])\n",
        "maxpscef10=max(Is[2])\n",
        "\n",
        "maxs=[maxpscef5viejo,maxpscef5,maxpscef10]\n",
        "\n",
        "Inormalizados=Is/max(maxs)\n",
        "\n",
        "\n",
        "titulos2=[\"Ps\",\"Ps/CeF3 5% (old)\",\"Ps/CeF3 5%\",\"Ps/CeF3 10%\"]\n",
        "\n",
        "i=1\n",
        "plt.figure()\n",
        "plt.title(\"Fotoluminiscencia de PS con diferentes cargas de nanopartículas de CeF3 normalizada\")   #Photoluminescence of PS with different loadings of Naphtalene\n",
        "plt.xlabel('$\\lambda$ (nm)')\n",
        "plt.ylabel('Intensidad (u.a)')\n",
        "for j in Inormalizados:\n",
        "  plt.plot(lambdapl[:137],j[:137],label=titulos2[i])\n",
        "  i=i+1\n",
        "\n",
        "\n",
        "PsCeF3_5old=Inormalizados[0]\n",
        "peaks, _ = find_peaks(Inormalizados[0],height=0.8)\n",
        "peak_x = lambdapl[peaks]\n",
        "peak_y = PsCeF3_5old[peaks]\n",
        "pico1=str(round(peak_x[0]))\n",
        "pico2=str(round(peak_x[1]))\n",
        "#plt.scatter(peak_x[0],peak_y[0],label=f\"{pico1} nm\",c=\"red\",linewidth=1.1,ls=\"-.\",zorder=100,s=25)  \n",
        "#plt.scatter(peak_x[1],peak_y[1],label=f\"{pico2} nm\",c=\"red\",linewidth=1.1,ls=\"-.\",zorder=90,s=25)  \n",
        "plt.axvline(peak_x[0],ls=\"-.\",label=f\"{pico1} nm\",c=\"red\",linewidth=1)\n",
        "plt.axvline(peak_x[1],ls=\"-.\",label=f\"{pico2} nm\",c=\"blue\",linewidth=1)\n",
        "plt.axvline(320,ls=\"-\",c=\"black\",linewidth=0.8)\n",
        "plt.axvline(340,ls=\"-\",c=\"black\",linewidth=0.8)\n",
        "plt.legend()\n",
        "\n",
        "\n",
        "\n",
        "\n",
        "\n",
        "\n",
        "# estan raros estos datos de la de ps solo\n",
        "plt.figure()\n",
        "plt.title(\"Espectro raro de la muestra de Ps sin carga de nanopartículas\")\n",
        "plt.xlabel('$\\lambda$ (nm)')\n",
        "plt.ylabel('Intensidad (u.a)')\n",
        "plt.plot(lambdapl,pl[2],label=titulos2[0])\n",
        "plt.legend()\n"
      ]
    },
    {
      "cell_type": "code",
      "execution_count": null,
      "metadata": {
        "id": "pcs676of_EWA"
      },
      "outputs": [],
      "source": []
    }
  ],
  "metadata": {
    "colab": {
      "provenance": []
    },
    "kernelspec": {
      "display_name": "base",
      "language": "python",
      "name": "python3"
    },
    "language_info": {
      "codemirror_mode": {
        "name": "ipython",
        "version": 3
      },
      "file_extension": ".py",
      "mimetype": "text/x-python",
      "name": "python",
      "nbconvert_exporter": "python",
      "pygments_lexer": "ipython3",
      "version": "3.9.7"
    }
  },
  "nbformat": 4,
  "nbformat_minor": 0
}
