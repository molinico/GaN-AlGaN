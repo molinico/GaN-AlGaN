{
  "cells": [
    {
      "cell_type": "markdown",
      "metadata": {
        "id": "FLemV7os7UbW"
      },
      "source": [
        "# PL"
      ]
    },
    {
      "cell_type": "code",
      "execution_count": 2,
      "metadata": {
        "id": "nCQUTCU07Ubk"
      },
      "outputs": [],
      "source": [
        "import matplotlib.pyplot as plt\n",
        "import numpy as np\n",
        "import math\n",
        "import time\n",
        "import scipy.signal\n",
        "from scipy.optimize import curve_fit\n",
        "import scipy.stats as stats\n",
        "import pandas as pd\n",
        "import os\n",
        "from  scipy.stats import chi2_contingency\n",
        "#from statsmodels.stats.weightstats import DescrStatsW\n",
        "import glob\n",
        "import csv\n",
        "import fileinput\n",
        "from glob import glob\n",
        "import re\n",
        "from scipy.signal import butter, filtfilt\n",
        "import scipy.integrate as spi\n",
        "from scipy.stats import chi2\n",
        "from scipy.signal import find_peaks\n",
        "\n",
        "#ej de path=r'C:\\Users\\Sergio\\Desktop\\L6y7\\18-04-23'\n",
        "#path='C:/Users/Nicolás Molina/Desktop/L6-7/04-05-23-14kV'\n",
        "#path=r'C:\\Users\\Sergio\\Desktop\\L6y7\\04-05-23-19kV'\n",
        "\n",
        "path=r'C:\\Users\\Nicolás Molina\\OneDrive\\Escritorio\\GaNAlGaN\\Gan-AlGaN\\adquisiciones\\PL'\n",
        "\n",
        "#get_ipython().run_line_magic('matplotlib', 'inline')\n",
        "get_ipython().run_line_magic('matplotlib', 'qt5')\n",
        "\n",
        "import matplotlib.ticker as ticker\n"
      ]
    },
    {
      "cell_type": "markdown",
      "metadata": {
        "id": "0qdC2WDq7Ubo"
      },
      "source": [
        "## datos ya procesados"
      ]
    },
    {
      "cell_type": "code",
      "execution_count": 40,
      "metadata": {
        "id": "WDZOXOoN7Ubp",
        "outputId": "6e233b4f-803e-4fa3-c883-67b0407793d8"
      },
      "outputs": [
        {
          "data": {
            "text/plain": [
              "<matplotlib.legend.Legend at 0x280d3190b80>"
            ]
          },
          "execution_count": 40,
          "metadata": {},
          "output_type": "execute_result"
        }
      ],
      "source": [
        "plt.close(\"all\")\n",
        "path=r'C:\\Users\\Nicolás Molina\\OneDrive\\Escritorio\\GaNAlGaN\\Gan-AlGaN\\adquisiciones\\PL'\n",
        "os.chdir (path)\n",
        "from scipy.signal import find_peaks\n",
        "file=\"PL primera prueba.txt\"\n",
        "\n",
        "data = np.loadtxt(file, delimiter=' ', skiprows=1, unpack=True)\n",
        "\n",
        "longonda=data[0]\n",
        "Ps1=data[1]\n",
        "Ps2=data[2]\n",
        "PsNf5=data[3]\n",
        "PsNf10=data[4]\n",
        "PsNf15=data[5]\n",
        "PsNf20=data[6]\n",
        "\n",
        "norm=max(max(Ps1),max(Ps2),max(PsNf5),max(PsNf10),max(PsNf15),max(PsNf20)) #para normalizar\n",
        "\n",
        "muestras=[Ps1,Ps2,PsNf5,PsNf10,PsNf15,PsNf20]\n",
        "titulos=[\"Ps1\",\"Ps2\",\"Ps/Nf 5%\",\"Ps/Nf 10%\",\"Ps/Nf 15%\",\"Ps/Nf 20%\"]\n",
        "\n",
        "plt.figure()\n",
        "plt.title(\"Fotoluminiscencia de PS con diferentes cargas de Naftaleno normalizada\")   #Photoluminescence of PS with different loadings of Naphtalene\n",
        "plt.xlabel('$\\lambda$ (nm)')\n",
        "plt.ylabel('Intensidad (u.a)')\n",
        "j=0\n",
        "\n",
        "for film in muestras:\n",
        "    plt.plot(longonda[20:170],film[20:170]/norm,label=titulos[j])    #divido por norm para normalizar\n",
        "\n",
        "    j=j+1\n",
        "\n",
        "peaks, _ = find_peaks(PsNf10,height=1000000)\n",
        "peak_x = longonda[peaks]\n",
        "peak_y = PsNf10[peaks]\n",
        "pico=str(round(peak_x[0]))\n",
        "#plt.scatter(peak_x,peak_y/norm,label=f\"{pico} nm\",c=\"black\",linewidth=1,ls=\"-.\",zorder=100,s=25)  #pico max psnf10\n",
        "plt.axvline(peak_x[0],label=f\"{pico} nm\",c=\"blue\",linewidth=1,ls=\"-.\")\n",
        "plt.axvline(320,ls=\"-\",c=\"black\",linewidth=0.8)\n",
        "plt.axvline(340,ls=\"-\",c=\"black\",linewidth=0.8)\n",
        "plt.legend()"
      ]
    },
    {
      "cell_type": "markdown",
      "metadata": {},
      "source": [
        "## ple y ple cef3 \n"
      ]
    },
    {
      "cell_type": "code",
      "execution_count": 9,
      "metadata": {},
      "outputs": [
        {
          "data": {
            "text/plain": [
              "<matplotlib.legend.Legend at 0x197853f01f0>"
            ]
          },
          "execution_count": 9,
          "metadata": {},
          "output_type": "execute_result"
        }
      ],
      "source": [
        "\n",
        "path=r\"C:\\Users\\Nicolás Molina\\OneDrive\\Escritorio\\GaNAlGaN\\Gan-AlGaN\\adquisiciones\\cef3 solo\" #path=r\"C:\\Users\\Sergio\\Desktop\\tesis\\Gan-AlGaN-main\\adquisiciones\\cef3 solo\"\n",
        "plt.close(\"all\")\n",
        "os.chdir (path)\n",
        "import csv\n",
        "\n",
        "file= \"espectros exc y em.txt\"\n",
        "\n",
        "\n",
        "plple = np.loadtxt(file, delimiter=',', skiprows=4, unpack=True)\n",
        "\n",
        "xpl=plple[0]\n",
        "ypl=plple[1]\n",
        "\n",
        "pl= xpl,ypl\n",
        "\n",
        "normpl=max(ypl)\n",
        "ypl=ypl/normpl\n",
        "\n",
        "xple=plple[2]\n",
        "yple=plple[3]\n",
        "\n",
        "xple=xple[0:91]\n",
        "yple=yple[0:91]\n",
        "\n",
        "normple=max(yple)\n",
        "yple=yple/normple\n",
        "\n",
        "\n",
        "\n",
        "peakspl, _ = find_peaks(ypl,height=0.7)\n",
        "peak_xpl = xpl[peakspl]\n",
        "peak_ypl = ypl[peakspl]\n",
        "\n",
        "peaksple, _ = find_peaks(yple,height=0.7)\n",
        "peak_xple = xple[peaksple]\n",
        "peak_yple = yple[peaksple]\n",
        "\n",
        "picopl=str(round(peak_xpl[0]))\n",
        "picople=str(round(peak_xple[0]))\n",
        "\n",
        "\n",
        "\n",
        "plt.figure()\n",
        "#plt.scatter(peak_x,peak_y/norm,label=f\"{pico} nm\",c=\"black\",linewidth=1,ls=\"-.\",zorder=100,s=25)  #pico max psnf10\n",
        "plt.axvline(peak_xpl[0],label=f\"{picopl} nm\",c=\"blue\",linewidth=1,ls=\"-.\")\n",
        "plt.axvline(peak_xple[0],label=f\"{picople} nm\",c=\"red\",linewidth=1,ls=\"-.\")\n",
        "\n",
        "\n",
        "\n",
        "plt.title('Espectro de emisión (PL) y excitación (PLE) de las nanopartículas de $CeF_{3}$')  #XRD pattern of the synthesized $CeF_3$ nanoparticles\n",
        "plt.plot(xpl,ypl,c=\"blue\",label=\"PL\")\n",
        "plt.plot(xple,yple,c=\"red\",linestyle=\"-\",label=\"PLE\")\n",
        "plt.xlabel('$\\lambda$ (nm)')\n",
        "plt.ylabel('Intensidad (u.a)')\n",
        "\n",
        "\n",
        "\n",
        "path=r\"C:\\Users\\Nicolás Molina\\OneDrive\\Escritorio\\GaNAlGaN\\Gan-AlGaN\\adquisiciones\\uvvis naftaleno\" #path=r\"C:\\Users\\Sergio\\Desktop\\tesis\\Gan-AlGaN-main\\adquisiciones\\uvvis naftaleno\"\n",
        "\n",
        "file= \"PS1.Sample.asc\"\n",
        "os.chdir (path)\n",
        "uvvisPS = np.loadtxt(file, delimiter=',', skiprows=86, unpack=True)\n",
        "\n",
        "xps=uvvisPS[0]\n",
        "yps=uvvisPS[1]\n",
        "yps=yps/max(yps)\n",
        "plt.plot(xps,yps,c=\"black\",label=\"Absorbancia PS\")\n",
        "plt.legend()"
      ]
    },
    {
      "cell_type": "markdown",
      "metadata": {},
      "source": [
        "## tiempo de vida cef3"
      ]
    },
    {
      "cell_type": "code",
      "execution_count": 17,
      "metadata": {},
      "outputs": [
        {
          "data": {
            "text/plain": [
              "<matplotlib.legend.Legend at 0x1d14cd09f40>"
            ]
          },
          "execution_count": 17,
          "metadata": {},
          "output_type": "execute_result"
        }
      ],
      "source": [
        "plt.close(\"all\")\n",
        "path=r\"C:\\Users\\Sergio\\Desktop\\tesis\\Gan-AlGaN-main\\adquisiciones\\cef3 solo\"  #'C:\\Users\\Nicolás Molina\\OneDrive\\Escritorio\\GaNAlGaN\\Gan-AlGaN\\adquisiciones\\cef3 solo'\n",
        "\n",
        "os.chdir (path)\n",
        "\n",
        "# busco la absorbancia (en uvvis) en el punto donde excito las muestras en el pl\n",
        "lifetime=np.loadtxt(\"crudo tiempodevida.txt\",delimiter=\",\",skiprows=8,unpack=True)\n",
        "time1=lifetime[0]\n",
        "int1=lifetime[0]\n",
        "time2=lifetime[2]\n",
        "int2=lifetime[3]\n",
        "\n",
        "\n",
        "plt.figure()\n",
        "plt.plot(time2,int2,label=\"Tiempo de vida\")\n",
        "\n",
        "\n",
        "\n",
        "ajuste=np.loadtxt(\"Ajuste triexp CeF3.txt\",delimiter=\",\",skiprows=4,unpack=True)\n",
        "timeajuste=ajuste[0]\n",
        "intajuste=ajuste[1]\n",
        "\n",
        "plt.plot(timeajuste,intajuste,linestyle=\"--\",c=\"red\",label=\"Ajuste triexponencial\")\n",
        "plt.title(\"Tiempo de vida de las nanopartículas de $CeF_{3}$\")   #Photoluminescence of PS with different loadings of Naphtalene\n",
        "plt.xlabel('Tiempo (ns)')\n",
        "plt.ylabel('Intensidad (u.a)')\n",
        "plt.legend()\n",
        "\n",
        "\n"
      ]
    },
    {
      "cell_type": "markdown",
      "metadata": {
        "id": "H5ItXEG57Ubs"
      },
      "source": [
        "# procesamiento completo de datos"
      ]
    },
    {
      "cell_type": "code",
      "execution_count": 12,
      "metadata": {
        "colab": {
          "base_uri": "https://localhost:8080/",
          "height": 913
        },
        "id": "Igr85IKw7Ubt",
        "outputId": "6fe4d23c-93f8-4faa-d37d-3b9423ba96cd"
      },
      "outputs": [
        {
          "name": "stdout",
          "output_type": "stream",
          "text": [
            "['Ps CeF3 10.Sample.Cycle1.Raw.csv', 'Ps CeF3 5 fina.Sample.Cycle1.Raw.csv', 'Ps CeF3 5.Sample.Cycle1.Raw.csv', 'Ps.Sample.Cycle1.Raw.csv']\n"
          ]
        },
        {
          "ename": "ValueError",
          "evalue": "could not convert string to float: 'lambda'",
          "output_type": "error",
          "traceback": [
            "\u001b[1;31m---------------------------------------------------------------------------\u001b[0m",
            "\u001b[1;31mValueError\u001b[0m                                Traceback (most recent call last)",
            "\u001b[1;32mc:\\Users\\Sergio\\Desktop\\tesis\\Gan-AlGaN-main\\codigos\\PL.ipynb Cell 8\u001b[0m line \u001b[0;36m3\n\u001b[0;32m     <a href='vscode-notebook-cell:/c%3A/Users/Sergio/Desktop/tesis/Gan-AlGaN-main/codigos/PL.ipynb#W5sZmlsZQ%3D%3D?line=26'>27</a>\u001b[0m   \u001b[39mabs\u001b[39m\u001b[39m.\u001b[39mappend(mean(intensidad[\u001b[39m437\u001b[39m:\u001b[39m443\u001b[39m]))\n\u001b[0;32m     <a href='vscode-notebook-cell:/c%3A/Users/Sergio/Desktop/tesis/Gan-AlGaN-main/codigos/PL.ipynb#W5sZmlsZQ%3D%3D?line=27'>28</a>\u001b[0m \u001b[39m#plt.legend()\u001b[39;00m\n\u001b[0;32m     <a href='vscode-notebook-cell:/c%3A/Users/Sergio/Desktop/tesis/Gan-AlGaN-main/codigos/PL.ipynb#W5sZmlsZQ%3D%3D?line=28'>29</a>\u001b[0m \n\u001b[0;32m     <a href='vscode-notebook-cell:/c%3A/Users/Sergio/Desktop/tesis/Gan-AlGaN-main/codigos/PL.ipynb#W5sZmlsZQ%3D%3D?line=29'>30</a>\u001b[0m \u001b[39m#ahora si empiezo con pl\u001b[39;00m\n\u001b[1;32m---> <a href='vscode-notebook-cell:/c%3A/Users/Sergio/Desktop/tesis/Gan-AlGaN-main/codigos/PL.ipynb#W5sZmlsZQ%3D%3D?line=31'>32</a>\u001b[0m pl\u001b[39m=\u001b[39mnp\u001b[39m.\u001b[39;49mloadtxt(\u001b[39m\"\u001b[39;49m\u001b[39mpl2fail2.txt\u001b[39;49m\u001b[39m\"\u001b[39;49m, delimiter\u001b[39m=\u001b[39;49m\u001b[39m'\u001b[39;49m\u001b[39m\t\u001b[39;49m\u001b[39m'\u001b[39;49m, skiprows\u001b[39m=\u001b[39;49m\u001b[39m1\u001b[39;49m, unpack\u001b[39m=\u001b[39;49m\u001b[39mTrue\u001b[39;49;00m)\n\u001b[0;32m     <a href='vscode-notebook-cell:/c%3A/Users/Sergio/Desktop/tesis/Gan-AlGaN-main/codigos/PL.ipynb#W5sZmlsZQ%3D%3D?line=34'>35</a>\u001b[0m lambdapl\u001b[39m=\u001b[39mpl[\u001b[39m0\u001b[39m]\n\u001b[0;32m     <a href='vscode-notebook-cell:/c%3A/Users/Sergio/Desktop/tesis/Gan-AlGaN-main/codigos/PL.ipynb#W5sZmlsZQ%3D%3D?line=35'>36</a>\u001b[0m Iblanco\u001b[39m=\u001b[39mpl[\u001b[39m1\u001b[39m]\n",
            "File \u001b[1;32mc:\\Users\\Sergio\\anaconda3\\envs\\labo\\lib\\site-packages\\numpy\\lib\\npyio.py:1148\u001b[0m, in \u001b[0;36mloadtxt\u001b[1;34m(fname, dtype, comments, delimiter, converters, skiprows, usecols, unpack, ndmin, encoding, max_rows, like)\u001b[0m\n\u001b[0;32m   1143\u001b[0m \u001b[39m# read data in chunks and fill it into an array via resize\u001b[39;00m\n\u001b[0;32m   1144\u001b[0m \u001b[39m# over-allocating and shrinking the array later may be faster but is\u001b[39;00m\n\u001b[0;32m   1145\u001b[0m \u001b[39m# probably not relevant compared to the cost of actually reading and\u001b[39;00m\n\u001b[0;32m   1146\u001b[0m \u001b[39m# converting the data\u001b[39;00m\n\u001b[0;32m   1147\u001b[0m X \u001b[39m=\u001b[39m \u001b[39mNone\u001b[39;00m\n\u001b[1;32m-> 1148\u001b[0m \u001b[39mfor\u001b[39;00m x \u001b[39min\u001b[39;00m read_data(_loadtxt_chunksize):\n\u001b[0;32m   1149\u001b[0m     \u001b[39mif\u001b[39;00m X \u001b[39mis\u001b[39;00m \u001b[39mNone\u001b[39;00m:\n\u001b[0;32m   1150\u001b[0m         X \u001b[39m=\u001b[39m np\u001b[39m.\u001b[39marray(x, dtype)\n",
            "File \u001b[1;32mc:\\Users\\Sergio\\anaconda3\\envs\\labo\\lib\\site-packages\\numpy\\lib\\npyio.py:999\u001b[0m, in \u001b[0;36mloadtxt.<locals>.read_data\u001b[1;34m(chunk_size)\u001b[0m\n\u001b[0;32m    995\u001b[0m     \u001b[39mraise\u001b[39;00m \u001b[39mValueError\u001b[39;00m(\u001b[39m\"\u001b[39m\u001b[39mWrong number of columns at line \u001b[39m\u001b[39m%d\u001b[39;00m\u001b[39m\"\u001b[39m\n\u001b[0;32m    996\u001b[0m                      \u001b[39m%\u001b[39m line_num)\n\u001b[0;32m    998\u001b[0m \u001b[39m# Convert each value according to its column and store\u001b[39;00m\n\u001b[1;32m--> 999\u001b[0m items \u001b[39m=\u001b[39m [conv(val) \u001b[39mfor\u001b[39;00m (conv, val) \u001b[39min\u001b[39;00m \u001b[39mzip\u001b[39m(converters, vals)]\n\u001b[0;32m   1001\u001b[0m \u001b[39m# Then pack it according to the dtype's nesting\u001b[39;00m\n\u001b[0;32m   1002\u001b[0m items \u001b[39m=\u001b[39m pack_items(items, packing)\n",
            "File \u001b[1;32mc:\\Users\\Sergio\\anaconda3\\envs\\labo\\lib\\site-packages\\numpy\\lib\\npyio.py:999\u001b[0m, in \u001b[0;36m<listcomp>\u001b[1;34m(.0)\u001b[0m\n\u001b[0;32m    995\u001b[0m     \u001b[39mraise\u001b[39;00m \u001b[39mValueError\u001b[39;00m(\u001b[39m\"\u001b[39m\u001b[39mWrong number of columns at line \u001b[39m\u001b[39m%d\u001b[39;00m\u001b[39m\"\u001b[39m\n\u001b[0;32m    996\u001b[0m                      \u001b[39m%\u001b[39m line_num)\n\u001b[0;32m    998\u001b[0m \u001b[39m# Convert each value according to its column and store\u001b[39;00m\n\u001b[1;32m--> 999\u001b[0m items \u001b[39m=\u001b[39m [conv(val) \u001b[39mfor\u001b[39;00m (conv, val) \u001b[39min\u001b[39;00m \u001b[39mzip\u001b[39m(converters, vals)]\n\u001b[0;32m   1001\u001b[0m \u001b[39m# Then pack it according to the dtype's nesting\u001b[39;00m\n\u001b[0;32m   1002\u001b[0m items \u001b[39m=\u001b[39m pack_items(items, packing)\n",
            "File \u001b[1;32mc:\\Users\\Sergio\\anaconda3\\envs\\labo\\lib\\site-packages\\numpy\\lib\\npyio.py:736\u001b[0m, in \u001b[0;36m_getconv.<locals>.floatconv\u001b[1;34m(x)\u001b[0m\n\u001b[0;32m    734\u001b[0m \u001b[39mif\u001b[39;00m \u001b[39m'\u001b[39m\u001b[39m0x\u001b[39m\u001b[39m'\u001b[39m \u001b[39min\u001b[39;00m x:\n\u001b[0;32m    735\u001b[0m     \u001b[39mreturn\u001b[39;00m \u001b[39mfloat\u001b[39m\u001b[39m.\u001b[39mfromhex(x)\n\u001b[1;32m--> 736\u001b[0m \u001b[39mreturn\u001b[39;00m \u001b[39mfloat\u001b[39;49m(x)\n",
            "\u001b[1;31mValueError\u001b[0m: could not convert string to float: 'lambda'"
          ]
        }
      ],
      "source": [
        "plt.close(\"all\")\n",
        "path=r'C:\\Users\\Nicolás Molina\\OneDrive\\Escritorio\\GaNAlGaN\\Gan-AlGaN\\adquisiciones\\PL2 fail+uvvis'\n",
        "\n",
        "os.chdir (path)\n",
        "\n",
        "# busco la absorbancia (en uvvis) en el punto donde excito las muestras en el pl\n",
        "uvvis=glob('*.csv')\n",
        "baselineuv=np.loadtxt(\"baseline.txt\",delimiter=\",\",skiprows=1,unpack=True)\n",
        "#pl=np.loadtxt(\"pl2fail.txt\", delimiter='\t', skiprows=1, unpack=True)\n",
        "\n",
        "def mean(numbers):\n",
        "    return sum(numbers)/len(numbers)\n",
        "\n",
        "\n",
        "abs=[]\n",
        "\n",
        "print(uvvis)\n",
        "\n",
        "uvvis=[\"Ps.Sample.Cycle1.Raw.csv\",\"Ps CeF3 5 fina.Sample.Cycle1.Raw.csv\",\"Ps CeF3 5.Sample.Cycle1.Raw.csv\",\"Ps CeF3 10.Sample.Cycle1.Raw.csv\"]\n",
        "\n",
        "#plt.figure()\n",
        "for film in uvvis:\n",
        "  uv=np.loadtxt(film, delimiter=',', skiprows=1, unpack=True)\n",
        "  lambda_=uv[0]\n",
        "  intensidad=uv[1]-baselineuv[1]  #corrijo\n",
        "  #plt.plot(lambda_[435:445],intensidad[435:445],label=film)\n",
        "  abs.append(mean(intensidad[437:443]))\n",
        "#plt.legend()\n",
        "\n",
        "#ahora si empiezo con pl\n",
        "\n",
        "pl=np.loadtxt(\"pl2fail2.txt\", delimiter='\t', skiprows=1, unpack=True)\n",
        "\n",
        "\n",
        "lambdapl=pl[0]\n",
        "Iblanco=pl[1]\n",
        "emcorri=pl[6]\n",
        "wg280=pl[7]\n",
        "\n",
        "Is=[]\n",
        "\n",
        "\n",
        "for j in [3,4,5]:\n",
        "  I0=pl[j]-Iblanco\n",
        "  T=10**(abs[j-2])\n",
        "  fabs=1-10**(-abs[j-2])\n",
        "  Ipl=I0*emcorri*100*(1-T)/(wg280*fabs)\n",
        "  Ipl=I0*emcorri*100/(wg280)\n",
        "  #plt.plot(lambdapl,Ipl,label=uvvis[j-2])\n",
        "  Is.append(Ipl)\n",
        "\n",
        "\n",
        "maxpscef5viejo=max(Is[0])\n",
        "maxpscef5=max(Is[1])\n",
        "maxpscef10=max(Is[2])\n",
        "\n",
        "maxs=[maxpscef5viejo,maxpscef5,maxpscef10]\n",
        "\n",
        "Inormalizados=Is/max(maxs)\n",
        "\n",
        "\n",
        "titulos2=[\"Ps\",\"Ps/CeF3 5% (old)\",\"Ps/CeF3 5%\",\"Ps/CeF3 10%\"]\n",
        "\n",
        "i=1\n",
        "plt.figure()\n",
        "plt.title(\"Fotoluminiscencia de PS con diferentes cargas de nanopartículas de $CeF_{3}$ normalizada\")   #Photoluminescence of PS with different loadings of Naphtalene\n",
        "plt.xlabel('$\\lambda$ (nm)')\n",
        "plt.ylabel('Intensidad (u.a)')\n",
        "for j in Inormalizados:\n",
        "  plt.plot(lambdapl[:137],j[:137],label=titulos2[i])\n",
        "  i=i+1\n",
        "\n",
        "\n",
        "PsCeF3_5old=Inormalizados[0]\n",
        "peaks, _ = find_peaks(Inormalizados[0],height=0.8)\n",
        "peak_x = lambdapl[peaks]\n",
        "peak_y = PsCeF3_5old[peaks]\n",
        "pico1=str(round(peak_x[0]))\n",
        "pico2=str(round(peak_x[1]))\n",
        "#plt.scatter(peak_x[0],peak_y[0],label=f\"{pico1} nm\",c=\"red\",linewidth=1.1,ls=\"-.\",zorder=100,s=25)  \n",
        "#plt.scatter(peak_x[1],peak_y[1],label=f\"{pico2} nm\",c=\"red\",linewidth=1.1,ls=\"-.\",zorder=90,s=25)  \n",
        "plt.axvline(peak_x[0],ls=\"-.\",label=f\"{pico1} nm\",c=\"red\",linewidth=1)\n",
        "plt.axvline(peak_x[1],ls=\"-.\",label=f\"{pico2} nm\",c=\"blue\",linewidth=1)\n",
        "plt.axvline(320,ls=\"-\",c=\"black\",linewidth=0.8)\n",
        "plt.axvline(340,ls=\"-\",c=\"black\",linewidth=0.8)\n",
        "plt.legend()\n",
        "\n",
        "\n",
        "\n",
        "\n",
        "\n",
        "\n",
        "# estan raros estos datos de la de ps solo\n",
        "plt.figure()\n",
        "plt.title(\"Espectro raro de la muestra de Ps sin carga de nanopartículas\")\n",
        "plt.xlabel('$\\lambda$ (nm)')\n",
        "plt.ylabel('Intensidad (u.a)')\n",
        "plt.plot(lambdapl,pl[2],label=titulos2[0])\n",
        "plt.legend()\n"
      ]
    },
    {
      "cell_type": "markdown",
      "metadata": {},
      "source": [
        "## uvvis cef3 14-6"
      ]
    },
    {
      "cell_type": "code",
      "execution_count": 4,
      "metadata": {
        "id": "pcs676of_EWA"
      },
      "outputs": [],
      "source": [
        "import matplotlib.pyplot as plt\n",
        "import numpy as np\n",
        "import math\n",
        "import time\n",
        "import scipy.signal\n",
        "from scipy.optimize import curve_fit\n",
        "import scipy.stats as stats\n",
        "import pandas as pd\n",
        "import os\n",
        "from  scipy.stats import chi2_contingency\n",
        "#from statsmodels.stats.weightstats import DescrStatsW\n",
        "import glob\n",
        "\n",
        "from scipy.signal import butter, filtfilt\n",
        "import scipy.integrate as spi\n",
        "from scipy.stats import chi2\n",
        "from scipy.signal import find_peaks\n",
        "from matplotlib.ticker import FuncFormatter\n",
        "\n",
        "\n",
        "path=r'C:\\Users\\Nicolás Molina\\OneDrive\\Escritorio\\GaNAlGaN\\Gan-AlGaN\\adquisiciones\\uv vis cef3 14-6'  #   r\"C:\\Users\\Sergio\\Desktop\\tesis\\Gan-AlGaN-main\\adquisiciones\\uv vis cef3 14-6\"\n",
        "\n",
        "#get_ipython().run_line_magic('matplotlib', 'inline')\n",
        "get_ipython().run_line_magic('matplotlib', 'qt5')\n",
        "\n",
        "import matplotlib.ticker as ticker\n",
        "\n",
        "os.chdir (path)\n",
        "from matplotlib.ticker import FormatStrFormatter\n",
        "from matplotlib.ticker import MaxNLocator\n",
        "files=glob.glob('*.csv')\n",
        "def format_ticks(value, pos):\n",
        "    return f'{value:.2f}'  # Cambia '2' por el número de decimales que desees\n",
        "# Aplicar el formato a los ticks del eje X para que solo sean enteros\n",
        "\n",
        "\n",
        "plt.close(\"all\")\n",
        "titulos=[\"CeF3 10%\",\"CeF3 5%\",\"CeF3 7.3% limpia\",\"CeF3 7.3% sucia\"]\n",
        "j=0\n",
        "plt.figure()\n",
        "for file in files:\n",
        "    med = np.loadtxt(file, delimiter=',', skiprows=1, unpack=True)\n",
        "    longonda=med[0]\n",
        "    abs=med[1]\n",
        "\n",
        "   \n",
        "    plt.gca().xaxis.set_major_locator(MaxNLocator(integer=True))\n",
        "\n",
        "    # Aplicar el formato a los ticks del eje Y para que solo sean enteros\n",
        "    plt.gca().yaxis.set_major_locator(MaxNLocator(integer=True))\n",
        "\n",
        "    plt.plot(longonda,abs,label=f\"{titulos[j]}\")\n",
        "    plt.xlabel(\"$\\lambda$ (nm)\")\n",
        "    plt.ylabel(\"Absorbancia (u.a)\")\n",
        "    plt.title(\"Absorbancias\")\n",
        "   \n",
        "    plt.legend()   \n",
        "\n",
        "    \"\"\"\n",
        "    peakshigh, _ = find_peaks(corr,height=0.025)\n",
        "    peak_xhigh = t[peakshigh]\n",
        "    peak_yhigh = corr[peakshigh]\n",
        "\n",
        "    picohighprom=sum(peak_yhigh)/len(peak_yhigh)\n",
        "\n",
        "    plt.axhline(picohighprom)\n",
        "    \"\"\"\n",
        "    j=j+1"
      ]
    },
    {
      "cell_type": "code",
      "execution_count": null,
      "metadata": {},
      "outputs": [],
      "source": []
    }
  ],
  "metadata": {
    "colab": {
      "provenance": []
    },
    "kernelspec": {
      "display_name": "base",
      "language": "python",
      "name": "python3"
    },
    "language_info": {
      "codemirror_mode": {
        "name": "ipython",
        "version": 3
      },
      "file_extension": ".py",
      "mimetype": "text/x-python",
      "name": "python",
      "nbconvert_exporter": "python",
      "pygments_lexer": "ipython3",
      "version": "3.9.7"
    }
  },
  "nbformat": 4,
  "nbformat_minor": 0
}
