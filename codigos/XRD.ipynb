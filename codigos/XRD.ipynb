{
 "cells": [
  {
   "cell_type": "markdown",
   "metadata": {},
   "source": [
    "# XRD Bragg\n"
   ]
  },
  {
   "cell_type": "markdown",
   "metadata": {},
   "source": [
    "### importar"
   ]
  },
  {
   "cell_type": "code",
   "execution_count": 3,
   "metadata": {},
   "outputs": [],
   "source": [
    "import matplotlib.pyplot as plt\n",
    "import numpy as np\n",
    "import math\n",
    "import time\n",
    "import scipy.signal\n",
    "from scipy.optimize import curve_fit\n",
    "import scipy.stats as stats\n",
    "import pandas as pd\n",
    "import os\n",
    "from  scipy.stats import chi2_contingency\n",
    "#from statsmodels.stats.weightstats import DescrStatsW\n",
    "import glob\n",
    "\n",
    "from scipy.signal import butter, filtfilt\n",
    "import scipy.integrate as spi\n",
    "from scipy.stats import chi2\n",
    "\n",
    "#ej de path=r'C:\\Users\\Sergio\\Desktop\\L6y7\\18-04-23'\n",
    "#path='C:/Users/Nicolás Molina/Desktop/L6-7/04-05-23-14kV'\n",
    "#path=r'C:\\Users\\Sergio\\Desktop\\L6y7\\04-05-23-19kV'\n",
    "\n",
    "path=r'C:\\Users\\Nicolás Molina\\OneDrive\\Escritorio\\GaNAlGaN\\Gan-AlGaN\\adquisiciones\\Bragg'\n",
    "\n",
    "#get_ipython().run_line_magic('matplotlib', 'inline')\n",
    "get_ipython().run_line_magic('matplotlib', 'qt5')\n",
    "\n",
    "import matplotlib.ticker as ticker\n"
   ]
  },
  {
   "cell_type": "code",
   "execution_count": 4,
   "metadata": {},
   "outputs": [],
   "source": [
    "import fileinput\n",
    "from glob import glob\n",
    "\n",
    "\n",
    "path=r'C:\\Users\\Nicolás Molina\\OneDrive\\Escritorio\\GaNAlGaN\\Gan-AlGaN\\adquisiciones\\Bragg'\n",
    "os.chdir (path)\n",
    "import re\n",
    "\n",
    "def scientific_to_normal(number_str):\n",
    "    \"\"\"Convierte un número en notación científica a notación normal.\"\"\"\n",
    "    try:\n",
    "        return str(float(number_str))\n",
    "    except ValueError:\n",
    "        return number_str\n",
    "\n",
    "def process_file(input_file, output_file):\n",
    "    \"\"\"Lee un archivo, convierte números en notación científica a notación normal, y escribe en un nuevo archivo.\"\"\"\n",
    "    with open(input_file, 'r') as file:\n",
    "        content = file.read()\n",
    "\n",
    "    # Encuentra todos los números en notación científica en el archivo\n",
    "    scientific_numbers = re.findall(r'[+-]?\\d+\\.\\d+e[+-]?\\d+', content)\n",
    "\n",
    "    # Reemplaza cada número en notación científica con su representación en notación normal\n",
    "    for number in scientific_numbers:\n",
    "        normal_number = scientific_to_normal(number)\n",
    "        content = content.replace(number, normal_number)\n",
    "\n",
    "    # Escribe el contenido modificado a un nuevo archivo\n",
    "    with open(output_file, 'w') as file:\n",
    "        file.write(content)\n",
    "\n",
    "# Ejemplo de uso\n",
    "input_file = 'CeF3.tsv'\n",
    "output_file = 'CeF3.tsv'\n",
    "process_file(input_file, output_file)\n",
    "\n"
   ]
  },
  {
   "cell_type": "code",
   "execution_count": 5,
   "metadata": {},
   "outputs": [
    {
     "ename": "OSError",
     "evalue": "CeF3 espectro corregido.txt not found.",
     "output_type": "error",
     "traceback": [
      "\u001b[1;31m---------------------------------------------------------------------------\u001b[0m",
      "\u001b[1;31mOSError\u001b[0m                                   Traceback (most recent call last)",
      "\u001b[1;32mc:\\Users\\Sergio\\Desktop\\tesis\\Gan-AlGaN-main\\codigos\\XRD.ipynb Cell 5\u001b[0m line \u001b[0;36m9\n\u001b[0;32m      <a href='vscode-notebook-cell:/c%3A/Users/Sergio/Desktop/tesis/Gan-AlGaN-main/codigos/XRD.ipynb#W4sZmlsZQ%3D%3D?line=5'>6</a>\u001b[0m file\u001b[39m=\u001b[39m \u001b[39m\"\u001b[39m\u001b[39mCeF3 espectro corregido.txt\u001b[39m\u001b[39m\"\u001b[39m\n\u001b[0;32m      <a href='vscode-notebook-cell:/c%3A/Users/Sergio/Desktop/tesis/Gan-AlGaN-main/codigos/XRD.ipynb#W4sZmlsZQ%3D%3D?line=6'>7</a>\u001b[0m teorico\u001b[39m=\u001b[39m\u001b[39m\"\u001b[39m\u001b[39mCeF3 teorico.tsv\u001b[39m\u001b[39m\"\u001b[39m\n\u001b[1;32m----> <a href='vscode-notebook-cell:/c%3A/Users/Sergio/Desktop/tesis/Gan-AlGaN-main/codigos/XRD.ipynb#W4sZmlsZQ%3D%3D?line=8'>9</a>\u001b[0m data \u001b[39m=\u001b[39m np\u001b[39m.\u001b[39;49mloadtxt(file, delimiter\u001b[39m=\u001b[39;49m\u001b[39m'\u001b[39;49m\u001b[39m\t\u001b[39;49m\u001b[39m'\u001b[39;49m, skiprows\u001b[39m=\u001b[39;49m\u001b[39m1\u001b[39;49m, unpack\u001b[39m=\u001b[39;49m\u001b[39mTrue\u001b[39;49;00m)\n\u001b[0;32m     <a href='vscode-notebook-cell:/c%3A/Users/Sergio/Desktop/tesis/Gan-AlGaN-main/codigos/XRD.ipynb#W4sZmlsZQ%3D%3D?line=9'>10</a>\u001b[0m teo\u001b[39m=\u001b[39m pd\u001b[39m.\u001b[39mread_csv(teorico, sep\u001b[39m=\u001b[39m\u001b[39m'\u001b[39m\u001b[39m\\t\u001b[39;00m\u001b[39m'\u001b[39m, header\u001b[39m=\u001b[39m\u001b[39mNone\u001b[39;00m)\n\u001b[0;32m     <a href='vscode-notebook-cell:/c%3A/Users/Sergio/Desktop/tesis/Gan-AlGaN-main/codigos/XRD.ipynb#W4sZmlsZQ%3D%3D?line=10'>11</a>\u001b[0m x\u001b[39m=\u001b[39mdata[\u001b[39m0\u001b[39m]\u001b[39m/\u001b[39m\u001b[39m10000\u001b[39m\n",
      "File \u001b[1;32mc:\\Users\\Sergio\\anaconda3\\envs\\labo\\lib\\site-packages\\numpy\\lib\\npyio.py:1067\u001b[0m, in \u001b[0;36mloadtxt\u001b[1;34m(fname, dtype, comments, delimiter, converters, skiprows, usecols, unpack, ndmin, encoding, max_rows, like)\u001b[0m\n\u001b[0;32m   1065\u001b[0m     fname \u001b[39m=\u001b[39m os_fspath(fname)\n\u001b[0;32m   1066\u001b[0m \u001b[39mif\u001b[39;00m _is_string_like(fname):\n\u001b[1;32m-> 1067\u001b[0m     fh \u001b[39m=\u001b[39m np\u001b[39m.\u001b[39;49mlib\u001b[39m.\u001b[39;49m_datasource\u001b[39m.\u001b[39;49mopen(fname, \u001b[39m'\u001b[39;49m\u001b[39mrt\u001b[39;49m\u001b[39m'\u001b[39;49m, encoding\u001b[39m=\u001b[39;49mencoding)\n\u001b[0;32m   1068\u001b[0m     fencoding \u001b[39m=\u001b[39m \u001b[39mgetattr\u001b[39m(fh, \u001b[39m'\u001b[39m\u001b[39mencoding\u001b[39m\u001b[39m'\u001b[39m, \u001b[39m'\u001b[39m\u001b[39mlatin1\u001b[39m\u001b[39m'\u001b[39m)\n\u001b[0;32m   1069\u001b[0m     fh \u001b[39m=\u001b[39m \u001b[39miter\u001b[39m(fh)\n",
      "File \u001b[1;32mc:\\Users\\Sergio\\anaconda3\\envs\\labo\\lib\\site-packages\\numpy\\lib\\_datasource.py:193\u001b[0m, in \u001b[0;36mopen\u001b[1;34m(path, mode, destpath, encoding, newline)\u001b[0m\n\u001b[0;32m    156\u001b[0m \u001b[39m\"\"\"\u001b[39;00m\n\u001b[0;32m    157\u001b[0m \u001b[39mOpen `path` with `mode` and return the file object.\u001b[39;00m\n\u001b[0;32m    158\u001b[0m \n\u001b[1;32m   (...)\u001b[0m\n\u001b[0;32m    189\u001b[0m \n\u001b[0;32m    190\u001b[0m \u001b[39m\"\"\"\u001b[39;00m\n\u001b[0;32m    192\u001b[0m ds \u001b[39m=\u001b[39m DataSource(destpath)\n\u001b[1;32m--> 193\u001b[0m \u001b[39mreturn\u001b[39;00m ds\u001b[39m.\u001b[39;49mopen(path, mode, encoding\u001b[39m=\u001b[39;49mencoding, newline\u001b[39m=\u001b[39;49mnewline)\n",
      "File \u001b[1;32mc:\\Users\\Sergio\\anaconda3\\envs\\labo\\lib\\site-packages\\numpy\\lib\\_datasource.py:533\u001b[0m, in \u001b[0;36mDataSource.open\u001b[1;34m(self, path, mode, encoding, newline)\u001b[0m\n\u001b[0;32m    530\u001b[0m     \u001b[39mreturn\u001b[39;00m _file_openers[ext](found, mode\u001b[39m=\u001b[39mmode,\n\u001b[0;32m    531\u001b[0m                               encoding\u001b[39m=\u001b[39mencoding, newline\u001b[39m=\u001b[39mnewline)\n\u001b[0;32m    532\u001b[0m \u001b[39melse\u001b[39;00m:\n\u001b[1;32m--> 533\u001b[0m     \u001b[39mraise\u001b[39;00m \u001b[39mIOError\u001b[39;00m(\u001b[39m\"\u001b[39m\u001b[39m%s\u001b[39;00m\u001b[39m not found.\u001b[39m\u001b[39m\"\u001b[39m \u001b[39m%\u001b[39m path)\n",
      "\u001b[1;31mOSError\u001b[0m: CeF3 espectro corregido.txt not found."
     ]
    }
   ],
   "source": [
    "\n",
    "path=r'C:\\Users\\Nicolás Molina\\OneDrive\\Escritorio\\GaNAlGaN\\Gan-AlGaN\\adquisiciones\\Bragg'\n",
    "plt.close(\"all\")\n",
    "os.chdir (path)\n",
    "import csv\n",
    "\n",
    "file= \"CeF3 espectro corregido.txt\"\n",
    "teorico=\"CeF3 teorico.tsv\"\n",
    "\n",
    "data = np.loadtxt(file, delimiter='\t', skiprows=1, unpack=True)\n",
    "teo= pd.read_csv(teorico, sep='\\t', header=None)\n",
    "x=data[0]/10000\n",
    "y=data[1]/10000\n",
    "\n",
    "\n",
    "xteo=teo[0]\n",
    "yteo=teo[1]\n",
    "\n",
    "\n",
    "plt.figure()\n",
    "plt.title('Patron de difracción de rayos X de las nanopartículas de $CeF_3$ ')  #XRD pattern of the synthesized $CeF_3$ nanoparticles\n",
    "# plt.plot(t,o3, label='DBD sola sin agua')\n",
    "plt.plot(x,y,c=\"black\",label=\"Patrón medido\")\n",
    "plt.plot(xteo,yteo,c=\"red\",linestyle=\"--\",label=\"Patrón teórico\",linewidth=0.7)\n",
    "plt.xlabel('2$\\Theta$')\n",
    "plt.ylabel('Intensidad')\n",
    "#plt.grid()\n",
    "plt.text(23.5, 2700, '002',rotation=90) # Coordenadas y texto\n",
    "plt.text(24.9, 2700, '110',rotation=90)\n",
    "plt.text(27.6, 8500, '111',rotation=90)\n",
    "plt.text(34.8, 1000, '112',rotation=90)\n",
    "plt.text(43.5, 4500, '030',rotation=90)\n",
    "plt.text(45.1, 4100, '113',rotation=90)\n",
    "plt.legend()\n"
   ]
  }
 ],
 "metadata": {
  "kernelspec": {
   "display_name": "base",
   "language": "python",
   "name": "python3"
  },
  "language_info": {
   "codemirror_mode": {
    "name": "ipython",
    "version": 3
   },
   "file_extension": ".py",
   "mimetype": "text/x-python",
   "name": "python",
   "nbconvert_exporter": "python",
   "pygments_lexer": "ipython3",
   "version": "3.9.11"
  }
 },
 "nbformat": 4,
 "nbformat_minor": 2
}
