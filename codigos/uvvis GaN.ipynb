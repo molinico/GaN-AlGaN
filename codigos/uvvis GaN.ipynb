{
 "cells": [
  {
   "cell_type": "code",
   "execution_count": 81,
   "metadata": {},
   "outputs": [],
   "source": [
    "import matplotlib.pyplot as plt\n",
    "import numpy as np\n",
    "import math\n",
    "import time\n",
    "import scipy.signal\n",
    "from scipy.optimize import curve_fit\n",
    "import scipy.stats as stats\n",
    "import pandas as pd\n",
    "import os\n",
    "from  scipy.stats import chi2_contingency\n",
    "#from statsmodels.stats.weightstats import DescrStatsW\n",
    "import glob\n",
    "\n",
    "from scipy.signal import butter, filtfilt\n",
    "import scipy.integrate as spi\n",
    "from scipy.stats import chi2\n",
    "from scipy.signal import find_peaks\n",
    "\n",
    "\n",
    "path=r'C:\\Users\\Nicolás Molina\\OneDrive\\Escritorio\\TESIS GIT\\GaN\\adquisiciones\\GaN uvvis\\subidas'\n",
    "\n",
    "#get_ipython().run_line_magic('matplotlib', 'inline')\n",
    "get_ipython().run_line_magic('matplotlib', 'qt5')\n",
    "\n",
    "import matplotlib.ticker as ticker"
   ]
  },
  {
   "cell_type": "markdown",
   "metadata": {},
   "source": [
    "## arreglo csv"
   ]
  },
  {
   "cell_type": "code",
   "execution_count": 77,
   "metadata": {},
   "outputs": [],
   "source": [
    "import fileinput\n",
    "from glob import glob\n",
    "\n",
    "\n",
    "with fileinput.input(files=glob(\"*.txt\"), inplace=True) as f:\n",
    "    for line in f:\n",
    "        nums = map(float, line.split())\n",
    "        print(*nums)"
   ]
  },
  {
   "cell_type": "markdown",
   "metadata": {},
   "source": [
    "## subidas"
   ]
  },
  {
   "cell_type": "code",
   "execution_count": 124,
   "metadata": {},
   "outputs": [
    {
     "name": "stdout",
     "output_type": "stream",
     "text": [
      "0.02644861724137931\n",
      "0.026404514285714283\n",
      "0.02630565294117647\n",
      "0.026051533333333328\n",
      "0.026122454545454542\n",
      "0.02605068333333333\n"
     ]
    }
   ],
   "source": [
    "path=r'C:\\Users\\Nicolás Molina\\OneDrive\\Escritorio\\TESIS GIT\\GaN\\adquisiciones\\GaN uvvis\\subidas'\n",
    "os.chdir (path)\n",
    "\n",
    "files=glob.glob('*.txt')\n",
    "\n",
    "plt.close(\"all\")\n",
    "j=0\n",
    "for file in files:\n",
    "    med = np.loadtxt(file, delimiter=' ', skiprows=1, unpack=True)\n",
    "    t=med[0]\n",
    "    corr=med[1]\n",
    "\n",
    "    plt.figure()\n",
    "    plt.plot(t,corr,c=\"black\")\n",
    "    plt.xlabel(\"tiempo [s]\")\n",
    "    plt.ylabel(\"corriente [A]\")\n",
    "    plt.title(f\"Iluminando GaN con {files[j]} nm\")\n",
    "    \n",
    "    peakshigh, _ = find_peaks(corr,height=0.026)\n",
    "    peak_xhigh = t[peakshigh]\n",
    "    peak_yhigh = corr[peakshigh]\n",
    "\n",
    "    picohighprom=sum(peak_yhigh)/len(peak_yhigh)\n",
    "    print(picohighprom)\n",
    "    plt.scatter(peak_xhigh,peak_yhigh)\n",
    "    plt.axhline(picohighprom)\n",
    "    minimo=min(corr)\n",
    "    plt.axhline(min(corr),label=f\"gap≈{round(picohighprom-minimo,4)*1000}mA\")\n",
    "    plt.legend()\n",
    "\n",
    "    \"\"\"\n",
    "    peakshigh, _ = find_peaks(corr,height=0.025)\n",
    "    peak_xhigh = t[peakshigh]\n",
    "    peak_yhigh = corr[peakshigh]\n",
    "\n",
    "    picohighprom=sum(peak_yhigh)/len(peak_yhigh)\n",
    "\n",
    "    plt.axhline(picohighprom)\n",
    "    \"\"\"\n",
    "    j=j+1\n",
    "\n"
   ]
  },
  {
   "cell_type": "markdown",
   "metadata": {},
   "source": [
    "## bajadas\n",
    "\n"
   ]
  },
  {
   "cell_type": "code",
   "execution_count": 125,
   "metadata": {},
   "outputs": [],
   "source": [
    "path=r'C:\\Users\\Nicolás Molina\\OneDrive\\Escritorio\\TESIS GIT\\GaN\\adquisiciones\\GaN uvvis\\bajadas'\n",
    "os.chdir (path)\n",
    "\n",
    "files=glob.glob('*.txt')\n",
    "\n",
    "plt.close(\"all\")\n",
    "j=0\n",
    "for file in files:\n",
    "    med = np.loadtxt(file, delimiter=' ', skiprows=1, unpack=True)\n",
    "    t=med[0]\n",
    "    corr=med[1]\n",
    "\n",
    "    plt.figure()\n",
    "    plt.plot(t,corr,c=\"black\")\n",
    "    plt.xlabel(\"tiempo [s]\")\n",
    "    plt.ylabel(\"corriente [A]\")\n",
    "    plt.title(files[j])\n",
    "    "
   ]
  },
  {
   "cell_type": "code",
   "execution_count": null,
   "metadata": {},
   "outputs": [],
   "source": []
  }
 ],
 "metadata": {
  "kernelspec": {
   "display_name": "base",
   "language": "python",
   "name": "python3"
  },
  "language_info": {
   "codemirror_mode": {
    "name": "ipython",
    "version": 3
   },
   "file_extension": ".py",
   "mimetype": "text/x-python",
   "name": "python",
   "nbconvert_exporter": "python",
   "pygments_lexer": "ipython3",
   "version": "3.9.7"
  }
 },
 "nbformat": 4,
 "nbformat_minor": 2
}
