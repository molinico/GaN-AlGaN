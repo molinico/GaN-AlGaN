{
 "cells": [
  {
   "cell_type": "code",
   "execution_count": 80,
   "metadata": {},
   "outputs": [],
   "source": [
    "import matplotlib.pyplot as plt\n",
    "import numpy as np\n",
    "import math\n",
    "import time\n",
    "import scipy.signal\n",
    "from scipy.optimize import curve_fit\n",
    "import scipy.stats as stats\n",
    "import pandas as pd\n",
    "import os\n",
    "from  scipy.stats import chi2_contingency\n",
    "#from statsmodels.stats.weightstats import DescrStatsW\n",
    "import glob\n",
    "\n",
    "from scipy.signal import butter, filtfilt\n",
    "import scipy.integrate as spi\n",
    "from scipy.stats import chi2\n",
    "from scipy.signal import find_peaks\n",
    "from matplotlib.ticker import FuncFormatter\n",
    "\n",
    "path=r'C:\\Users\\Nicolás Molina\\OneDrive\\Escritorio\\GaNAlGaN\\Gan-AlGaN\\adquisiciones\\GaN uvvis\\subidas'\n",
    "\n",
    "#get_ipython().run_line_magic('matplotlib', 'inline')\n",
    "get_ipython().run_line_magic('matplotlib', 'qt5')\n",
    "\n",
    "import matplotlib.ticker as ticker"
   ]
  },
  {
   "cell_type": "markdown",
   "metadata": {},
   "source": [
    "## arreglo csv"
   ]
  },
  {
   "cell_type": "code",
   "execution_count": 77,
   "metadata": {},
   "outputs": [],
   "source": [
    "import fileinput\n",
    "from glob import glob\n",
    "\n",
    "\n",
    "with fileinput.input(files=glob(\"*.txt\"), inplace=True) as f:\n",
    "    for line in f:\n",
    "        nums = map(float, line.split())\n",
    "        print(*nums)"
   ]
  },
  {
   "cell_type": "markdown",
   "metadata": {},
   "source": [
    "## subidas"
   ]
  },
  {
   "cell_type": "code",
   "execution_count": 88,
   "metadata": {},
   "outputs": [
    {
     "name": "stdout",
     "output_type": "stream",
     "text": [
      "26.44861724137931\n",
      "26.40451428571429\n",
      "26.305652941176465\n",
      "26.05153333333333\n",
      "26.122454545454545\n",
      "26.050683333333332\n"
     ]
    }
   ],
   "source": [
    "path=r'C:\\Users\\Nicolás Molina\\OneDrive\\Escritorio\\GaNAlGaN\\Gan-AlGaN\\adquisiciones\\GaN uvvis\\subidas'\n",
    "os.chdir (path)\n",
    "from matplotlib.ticker import FormatStrFormatter\n",
    "from matplotlib.ticker import MaxNLocator\n",
    "files=glob.glob('*.txt')\n",
    "def format_ticks(value, pos):\n",
    "    return f'{value:.2f}'  # Cambia '2' por el número de decimales que desees\n",
    "# Aplicar el formato a los ticks del eje X para que solo sean enteros\n",
    "\n",
    "\n",
    "plt.close(\"all\")\n",
    "j=0\n",
    "for file in files:\n",
    "    med = np.loadtxt(file, delimiter=' ', skiprows=1, unpack=True)\n",
    "    t=med[0]\n",
    "    corr=med[1]*1000\n",
    "\n",
    "    file=file.removesuffix(\".txt\")\n",
    "    plt.figure()\n",
    "    plt.gca().xaxis.set_major_locator(MaxNLocator(integer=True))\n",
    "\n",
    "    # Aplicar el formato a los ticks del eje Y para que solo sean enteros\n",
    "    plt.gca().yaxis.set_major_locator(MaxNLocator(integer=True))\n",
    "\n",
    "    plt.plot(t,corr,c=\"black\")\n",
    "    plt.xlabel(\"tiempo [s]\")\n",
    "    plt.ylabel(\"corriente [mA]\")\n",
    "    plt.title(f\"Subida de corriente iluminando GaN con {file} nm\")\n",
    "    \n",
    "    peakshigh, _ = find_peaks(corr,height=26)\n",
    "    peak_xhigh = t[peakshigh]\n",
    "    peak_yhigh = corr[peakshigh]\n",
    "\n",
    "    picohighprom=sum(peak_yhigh)/len(peak_yhigh)\n",
    "    print(picohighprom)\n",
    "    #plt.scatter(peak_xhigh,peak_yhigh)\n",
    "    plt.axhline(picohighprom)\n",
    "    minimo=min(corr)\n",
    "    plt.axhline(min(corr),label=f\"gap≈{round(picohighprom-minimo,2)}mA\")\n",
    "    plt.arrow(250,min(corr),0,picohighprom-min(corr),head_width=10,width=2,head_length=0.01)\n",
    "    plt.arrow(250,picohighprom,0,-picohighprom+min(corr),head_width=10,width=2,head_length=0.01)\n",
    "    plt.legend()\n",
    "\n",
    "    \"\"\"\n",
    "    peakshigh, _ = find_peaks(corr,height=0.025)\n",
    "    peak_xhigh = t[peakshigh]\n",
    "    peak_yhigh = corr[peakshigh]\n",
    "\n",
    "    picohighprom=sum(peak_yhigh)/len(peak_yhigh)\n",
    "\n",
    "    plt.axhline(picohighprom)\n",
    "    \"\"\"\n",
    "    j=j+1\n",
    "\n"
   ]
  },
  {
   "cell_type": "markdown",
   "metadata": {},
   "source": [
    "## bajadas\n",
    "\n"
   ]
  },
  {
   "cell_type": "code",
   "execution_count": 91,
   "metadata": {},
   "outputs": [],
   "source": [
    "path=r'C:\\Users\\Nicolás Molina\\OneDrive\\Escritorio\\GaNAlGaN\\Gan-AlGaN\\adquisiciones\\GaN uvvis\\bajadas'\n",
    "os.chdir (path)\n",
    "\n",
    "files=glob.glob('*.txt')\n",
    "\n",
    "plt.close(\"all\")\n",
    "j=0\n",
    "for file in files:\n",
    "    med = np.loadtxt(file, delimiter=' ', skiprows=1, unpack=True)\n",
    "    t=med[0]\n",
    "    corr=med[1]*1000\n",
    "\n",
    "    plt.figure()\n",
    "    plt.plot(t,corr,c=\"black\")\n",
    "    plt.xlabel(\"tiempo [s]\")\n",
    "    plt.ylabel(\"corriente [mA]\")\n",
    "    plt.title(f\"Bajada de corriente del GaN típica\")\n",
    "    "
   ]
  },
  {
   "cell_type": "code",
   "execution_count": null,
   "metadata": {},
   "outputs": [],
   "source": []
  }
 ],
 "metadata": {
  "kernelspec": {
   "display_name": "base",
   "language": "python",
   "name": "python3"
  },
  "language_info": {
   "codemirror_mode": {
    "name": "ipython",
    "version": 3
   },
   "file_extension": ".py",
   "mimetype": "text/x-python",
   "name": "python",
   "nbconvert_exporter": "python",
   "pygments_lexer": "ipython3",
   "version": "3.9.7"
  }
 },
 "nbformat": 4,
 "nbformat_minor": 2
}
